{
 "cells": [
  {
   "cell_type": "markdown",
   "id": "f36866b9",
   "metadata": {},
   "source": [
    "# Introduction to NumPy and Pandas\n",
    "\n",
    "This notebook introduces NumPy for numerical computations and Pandas for data manipulation."
   ]
  },
  {
   "cell_type": "markdown",
   "id": "b2643a90",
   "metadata": {},
   "source": [
    "### Introduction to NumPy\n",
    "NumPy is essential for scientific computing with Python."
   ]
  },
  {
   "cell_type": "code",
   "execution_count": 1,
   "id": "9ebc37f3",
   "metadata": {},
   "outputs": [
    {
     "name": "stdout",
     "output_type": "stream",
     "text": [
      "Temperatures: [22.5 25.3 20.8 18.6 30. ]\n",
      "Mean Temperature: 23.44°C\n"
     ]
    }
   ],
   "source": [
    "# Importing NumPy\n",
    "import numpy as np\n",
    "\n",
    "# Example: Create a NumPy array of temperatures\n",
    "temps = np.array([22.5, 25.3, 20.8, 18.6, 30.0])\n",
    "print('Temperatures:', temps)\n",
    "\n",
    "# Calculate the mean temperature\n",
    "mean_temp = np.mean(temps)\n",
    "print(f'Mean Temperature: {mean_temp:.2f}°C')"
   ]
  },
  {
   "cell_type": "markdown",
   "id": "f6ab78e6",
   "metadata": {},
   "source": [
    "### Introduction to Pandas\n",
    "Pandas is a powerful tool for data manipulation and analysis."
   ]
  },
  {
   "cell_type": "code",
   "execution_count": 2,
   "id": "dba128c8",
   "metadata": {},
   "outputs": [
    {
     "name": "stdout",
     "output_type": "stream",
     "text": [
      "   Temperature  Humidity         City\n",
      "0         22.5        55     New York\n",
      "1         25.3        60  Los Angeles\n",
      "2         20.8        65      Chicago\n",
      "3         18.6        70      Houston\n",
      "4         30.0        75      Phoenix\n",
      "Mean Temperature: 23.44°C\n"
     ]
    }
   ],
   "source": [
    "# Importing Pandas\n",
    "import pandas as pd\n",
    "\n",
    "# Example: Create a Pandas DataFrame for weather data\n",
    "data = {'Temperature': [22.5, 25.3, 20.8, 18.6, 30.0],\n",
    "        'Humidity': [55, 60, 65, 70, 75],\n",
    "        'City': ['New York', 'Los Angeles', 'Chicago', 'Houston', 'Phoenix']}\n",
    "\n",
    "df = pd.DataFrame(data)\n",
    "print(df)\n",
    "\n",
    "# Calculate the average temperature\n",
    "mean_temp = df['Temperature'].mean()\n",
    "print(f'Mean Temperature: {mean_temp:.2f}°C')"
   ]
  },
  {
   "cell_type": "markdown",
   "id": "59a193a9",
   "metadata": {},
   "source": [
    "## Hands-on Exercise\n",
    "Load a small weather dataset (CSV) and perform basic data analysis using Pandas."
   ]
  }
 ],
 "metadata": {
  "kernelspec": {
   "display_name": "Python 3 (ipykernel)",
   "language": "python",
   "name": "python3"
  },
  "language_info": {
   "codemirror_mode": {
    "name": "ipython",
    "version": 3
   },
   "file_extension": ".py",
   "mimetype": "text/x-python",
   "name": "python",
   "nbconvert_exporter": "python",
   "pygments_lexer": "ipython3",
   "version": "3.11.5"
  }
 },
 "nbformat": 4,
 "nbformat_minor": 5
}
