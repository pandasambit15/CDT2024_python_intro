{
 "cells": [
  {
   "cell_type": "markdown",
   "id": "8a47bb08",
   "metadata": {},
   "source": [
    "# Basics of Python\n",
    "In this introductory tutorial, we will go through some of the basic concepts of Python Programming Language. This is by no means a complete course on Python, but rather a broad overlook at it's various utilities and flavours.\n",
    "\n",
    "This notebook introduces the basics of Python programming, focusing on syntax, basic operations, data types, functions etc. and try certain applications catered towards weather and climate data. The contents of this notebook is a compilation of various tutuorials and open-source materials on the web."
   ]
  },
  {
   "cell_type": "markdown",
   "id": "d2c803a6-281d-4eb4-9c81-f34c16bd2bf6",
   "metadata": {},
   "source": [
    "## Part I: Basic syntax and data types"
   ]
  },
  {
   "cell_type": "markdown",
   "id": "0da82e0d-4623-403d-a946-7f3b5e14995a",
   "metadata": {},
   "source": [
    "The core of any object-oriented language are its objects. In Python _everything_ is an object, from a function to a class to a variable. The simplest object is, in fact, a **variable**. Let's define the first variable here, and print its type."
   ]
  },
  {
   "cell_type": "code",
   "execution_count": 1,
   "id": "10ede180-b7be-4418-a97d-8983eccda888",
   "metadata": {},
   "outputs": [
    {
     "name": "stdout",
     "output_type": "stream",
     "text": [
      "<class 'int'>\n"
     ]
    }
   ],
   "source": [
    "x = 2\n",
    "print(type(x))"
   ]
  },
  {
   "cell_type": "markdown",
   "id": "fd85c278-fe88-4a06-97fb-769b73ba0992",
   "metadata": {},
   "source": [
    "We've taken a few steps so far. To begin, we created a variable named x and assigned it the value 2. Next, we used the `print` function to display the type of `x`. The print function can accept one or more inputs and displays the values of variables. You might have also observed that `type` is another function we used, which determines and returns the data type of the variable given to it."
   ]
  },
  {
   "cell_type": "markdown",
   "id": "c33d5551-7a82-4572-859f-0e198cc7b9b5",
   "metadata": {},
   "source": [
    "There are other types of variables, such as strings, floats, and booleans. Let's see a few examples of these."
   ]
  },
  {
   "cell_type": "code",
   "execution_count": 2,
   "id": "115c0788",
   "metadata": {},
   "outputs": [
    {
     "name": "stdout",
     "output_type": "stream",
     "text": [
      "Temperature: 22.5°C, City: New York, Sunny: True\n"
     ]
    }
   ],
   "source": [
    "# Variables and Data Types\n",
    "temperature = 22.5  # float\n",
    "city = 'New York'   # string\n",
    "is_sunny = True     # boolean\n",
    "\n",
    "print(f'Temperature: {temperature}°C, City: {city}, Sunny: {is_sunny}')"
   ]
  },
  {
   "cell_type": "markdown",
   "id": "fea8a4f7-e3e1-47e1-a86a-b5561bf397d1",
   "metadata": {},
   "source": [
    "The `#` symbol in Python marks the beginning of a **comment**. Comments serve as explanatory notes within the code, intended for the programmer and other readers. Python doesn't execute these lines - it simply ignores them. \n",
    "\n",
    "Developers use comments to:\n",
    "- Clarify their code's purpose and functionality\n",
    "- Make the code easier to understand and maintain\n",
    "- Provide context or explanations for complex logic\n",
    "- Temporarily disable certain parts of the code for testing\n",
    "\n",
    "**Note:** Good commenting practices can significantly improve code readability and collaboration among developers."
   ]
  },
  {
   "cell_type": "markdown",
   "id": "e67fb263",
   "metadata": {},
   "source": [
    "**Note:** We can use `\"\"\"` to write multiple lines of comments in a code block in python, which is also refered to as **docstrings**. See example below:"
   ]
  },
  {
   "cell_type": "code",
   "execution_count": 3,
   "id": "2a239596",
   "metadata": {},
   "outputs": [
    {
     "data": {
      "text/plain": [
       "'\\nThis is an example of a docstring in python!!!\\n'"
      ]
     },
     "execution_count": 3,
     "metadata": {},
     "output_type": "execute_result"
    }
   ],
   "source": [
    "\"\"\"\n",
    "This is an example of a docstring in python!!!\n",
    "\"\"\""
   ]
  },
  {
   "cell_type": "markdown",
   "id": "5718654a-726d-41f1-8697-dc74a27f62cb",
   "metadata": {},
   "source": [
    "## Part II: Basic Operators"
   ]
  },
  {
   "cell_type": "markdown",
   "id": "8c5223c5-1464-4d9f-83bd-9dca8325bba1",
   "metadata": {},
   "source": [
    "Python offers various **operators** for manipulating variables. These operators follow a left-to-right evaluation order and adhere to the \"PEMDAS\" rule. You can find a greta list of operators in Python [here](https://www.w3schools.com/python/python_operators.asp) .  Here's a brief overview of some common operators:\n",
    "\n",
    "1. **Assignment operator**: `=`\n",
    "   - Assigns a value to a variable\n",
    "   - Example: `x = 5`\n",
    "\n",
    "2. **Equality operator**: `==`\n",
    "   - Checks if two values are equal\n",
    "   - Example: `if x == 5:`\n",
    "\n",
    "3. **Arithmetic operators**:\n",
    "   - Addition: `+`\n",
    "   - Subtraction: `-`\n",
    "   - Multiplication: `*`\n",
    "   - Division: `/`\n",
    "   - Exponentiation: `**`\n",
    "   - Modulus: `%`\n",
    "   - Floor Division: `//`\n",
    "\n",
    "Let's apply these operators to convert temperature from Fahrenheit to Celsius. The mathematical formula is:\n",
    "\n",
    "$$ C = 5(F - 32)/9 $$\n",
    "\n",
    "We can implement this formula in Python code as follows:"
   ]
  },
  {
   "cell_type": "code",
   "execution_count": 4,
   "id": "46b08e60-0d2c-4c3b-bd06-0da1dbd74204",
   "metadata": {},
   "outputs": [
    {
     "name": "stdout",
     "output_type": "stream",
     "text": [
      "It's equivalently hot in Europe: 35.56 degrees C!\n"
     ]
    }
   ],
   "source": [
    "F = 96  # it's quite hot out in America\n",
    "C = 5 * (F - 32) / 9\n",
    "print(f\"It's equivalently hot in Europe: {C:.02f} degrees C!\")"
   ]
  },
  {
   "cell_type": "markdown",
   "id": "fd02a68e-ff5e-4a3e-a25c-2f22a9bec836",
   "metadata": {},
   "source": [
    "In the previous example, we've combined several concepts and introduced a new one: [f-strings](https://docs.python.org/3/tutorial/inputoutput.html). F-strings provide a powerful way to embed expressions inside string literals for formatting.\n",
    "\n",
    "Key points about f-strings:\n",
    "\n",
    "1. They allow us to insert variables directly into print statements.\n",
    "2. The syntax `{C:.02f}` formats the `C` variable as a float with two decimal places.\n",
    "3. F-strings can handle complex formatting, but even basic usage improves output readability.\n",
    "\n",
    "**Note:** While the detailed formatting is optional, mastering f-strings can significantly enhance the professionalism of your output.\n",
    "\n",
    "**Tip:** For a deeper understanding of f-strings and their capabilities, refer to the official Python documentation linked above."
   ]
  },
  {
   "cell_type": "code",
   "execution_count": 5,
   "id": "2d2bf79a",
   "metadata": {},
   "outputs": [
    {
     "name": "stdout",
     "output_type": "stream",
     "text": [
      "The temperature is 25.43°C\n"
     ]
    }
   ],
   "source": [
    "#Example usage:\n",
    "temperature_c = 25.4321\n",
    "print(f\"The temperature is {temperature_c:.2f}°C\")\n",
    "# Output: The temperature is 25.43°C"
   ]
  },
  {
   "cell_type": "markdown",
   "id": "277d68ad",
   "metadata": {},
   "source": [
    "We can also use operator to assign values to variables bsed on operations on other variables. But note that the result of using `+` operator in strings and floats/integers is different!! "
   ]
  },
  {
   "cell_type": "code",
   "execution_count": 6,
   "id": "8446950f",
   "metadata": {},
   "outputs": [
    {
     "name": "stdout",
     "output_type": "stream",
     "text": [
      "C =  60\n",
      "fullname =  sambitpanda\n"
     ]
    }
   ],
   "source": [
    "# Use of '+' in int or float data type\n",
    "a = 20\n",
    "b = 40\n",
    "c = a + b\n",
    "print(\"C = \", c)\n",
    "\n",
    "# Use of '+' in string data type\n",
    "firstname = 'sambit'\n",
    "surname = 'panda'\n",
    "fullname = firstname + surname\n",
    "print('fullname = ', fullname)"
   ]
  },
  {
   "cell_type": "markdown",
   "id": "fd3d5bd2-c93b-4b82-bddb-a90f0c402efc",
   "metadata": {},
   "source": [
    "## Part III: Basic Python data structures"
   ]
  },
  {
   "cell_type": "markdown",
   "id": "441812d1-a07c-4567-ae4f-13597b4cf4eb",
   "metadata": {},
   "source": [
    "### Data Organization in Python\n",
    "\n",
    "In scientific computing, efficient data organization is crucial. Python provides various data structures to help us organize and manage information effectively. These structures can contain other objects, allowing for complex data representations.\n",
    "\n",
    "### Key Data Structures in Python\n",
    "\n",
    "1. **Lists**: Ordered, mutable sequences\n",
    "2. **Tuples**: Ordered, immutable sequences\n",
    "3. **Dictionaries**: Key-value pairs\n",
    "4. **Sets**: Unordered collections of unique elements\n",
    "5. **Arrays**: Efficient storage for numerical data (via NumPy)\n",
    "6. **DataFrames**: 2D labeled data structures (via Pandas)\n",
    "\n",
    "Each of these structures has its own characteristics and use cases, making Python a versatile tool for scientific data manipulation and analysis.\n",
    "\n",
    "In the following sections, we'll explore these data structures in detail, discussing their properties, use cases, and how to work with them effectively in scientific contexts."
   ]
  },
  {
   "cell_type": "markdown",
   "id": "db262449-547e-4b09-861a-35842fec7d3f",
   "metadata": {},
   "source": [
    "### 1. Lists \n",
    "\n",
    "Lists are ordered, mutable sequences. They're versatile and commonly used for storing collections of related items."
   ]
  },
  {
   "cell_type": "code",
   "execution_count": 7,
   "id": "b9a21f7c-e926-4486-9e11-579384a7bb3f",
   "metadata": {},
   "outputs": [
    {
     "name": "stdout",
     "output_type": "stream",
     "text": [
      "Temperatures: [22.5, 23.1, 23.8, 22.9, 23.5]\n",
      "Number of measurements: 5\n",
      "Maximum temperature: 23.8°C\n"
     ]
    }
   ],
   "source": [
    "# Example: List of experimental temperatures (in °C)\n",
    "temperatures = [22.5, 23.1, 23.8, 22.9, 23.5]\n",
    "\n",
    "print(f\"Temperatures: {temperatures}\")\n",
    "print(f\"Number of measurements: {len(temperatures)}\")\n",
    "print(f\"Maximum temperature: {max(temperatures)}°C\")"
   ]
  },
  {
   "cell_type": "markdown",
   "id": "f3b762ea-f4e1-423a-8016-b76fc36e3f7d",
   "metadata": {},
   "source": [
    "Now, how do we access a number/element in a list? Python, like many (but not all!) programming languages, is \"zero-indexed\". That means the \"first\" element of the array is indexed by the number `0`. \n",
    "\n",
    "So, let's try and print few elements/entries from the list `temperatures`."
   ]
  },
  {
   "cell_type": "code",
   "execution_count": 8,
   "id": "ecb9c3cf-7260-47d6-a928-151df0b17715",
   "metadata": {},
   "outputs": [
    {
     "name": "stdout",
     "output_type": "stream",
     "text": [
      "First Entry:  22.5\n",
      "Last Entry:  23.5\n",
      "Also Last Entry:  23.5\n"
     ]
    }
   ],
   "source": [
    "print(f\"First Entry:  {temperatures[0]}\")\n",
    "print(f\"Last Entry:  {temperatures[-1]}\")\n",
    "print(f\"Also Last Entry:  {temperatures[4]}\")"
   ]
  },
  {
   "cell_type": "markdown",
   "id": "879ef051-5b13-400d-911b-854e6234dd6c",
   "metadata": {},
   "source": [
    "### 2. Tuples\n",
    "\n",
    "Tuples are similar to lists but immutable. They're often used for fixed collections of data."
   ]
  },
  {
   "cell_type": "code",
   "execution_count": 9,
   "id": "d10aa961-804d-41c0-a34f-995f51d9e1e0",
   "metadata": {},
   "outputs": [
    {
     "name": "stdout",
     "output_type": "stream",
     "text": [
      "The point is located at x=2.5, y=1.8, z=-3.2\n"
     ]
    }
   ],
   "source": [
    "# Example: Representing a 3D coordinate\n",
    "point = (2.5, 1.8, -3.2)\n",
    "\n",
    "x, y, z = point  # Unpacking the tuple\n",
    "print(f\"The point is located at x={x}, y={y}, z={z}\")"
   ]
  },
  {
   "cell_type": "markdown",
   "id": "7ea87b96-8064-42ac-81b8-e54f9e56b782",
   "metadata": {},
   "source": [
    "### 3. Dictionaries\n",
    "\n",
    "Dictionaries store key-value pairs, allowing for efficient lookup and organization of data."
   ]
  },
  {
   "cell_type": "markdown",
   "id": "83877fb2-93c7-40ed-acd0-f354efd751da",
   "metadata": {},
   "source": [
    "A list is an _ordered_ collection of items. A dictionary, or `dict`, is an unordered collection of data indexed by \"keys\". There are quite a few differences fundamentally between lists and dictionaries, but for now, we're going to focus on the most important two.\n",
    "* Lists are _ordered_, dictionaries are _not ordered_\n",
    "* Lists are accessed by integers starting from 0, dictionaries are indexed by keys of an arbitrary type\n",
    "\n",
    "This second property especially makes them useful as lookup tables. For example, the following demonstrates how dictionaries are constructed and accessed."
   ]
  },
  {
   "cell_type": "code",
   "execution_count": 10,
   "id": "9eb89706-18a9-47c9-868a-63a5d496817e",
   "metadata": {},
   "outputs": [
    {
     "name": "stdout",
     "output_type": "stream",
     "text": [
      "The atomic number of Helium is 2\n",
      "The new updated dictionary is: {'Hydrogen': 1, 'Helium': 2, 'Lithium': 3, 'Beryllium': 4, 'Carbon': 6}\n"
     ]
    }
   ],
   "source": [
    "# Example: Chemical elements and their atomic numbers\n",
    "elements = {\n",
    "    \"Hydrogen\": 1,\n",
    "    \"Helium\": 2,\n",
    "    \"Lithium\": 3,\n",
    "    \"Beryllium\": 4\n",
    "}\n",
    "\n",
    "print(f\"The atomic number of Helium is {elements['Helium']}\")\n",
    "\n",
    "# Adding a new element\n",
    "elements[\"Carbon\"] = 6\n",
    "print(f\"The new updated dictionary is: {elements}\")"
   ]
  },
  {
   "cell_type": "markdown",
   "id": "e93cb589-7254-4ddd-854b-20a062fd440f",
   "metadata": {},
   "source": [
    "### 4. Sets\n",
    "\n",
    "Sets are unordered collections of unique elements, useful for removing duplicates and set operations."
   ]
  },
  {
   "cell_type": "code",
   "execution_count": 11,
   "id": "7638879d-5779-458d-9dc6-ac59042fe29c",
   "metadata": {},
   "outputs": [
    {
     "name": "stdout",
     "output_type": "stream",
     "text": [
      "All observed species: {'Bear', 'Wolf', 'Fox', 'Rabbit', 'Owl', 'Deer'}\n",
      "Species observed on both days: {'Rabbit', 'Fox'}\n"
     ]
    }
   ],
   "source": [
    "# Example: Unique species observed in an ecosystem\n",
    "species_day1 = {\"Wolf\", \"Fox\", \"Bear\", \"Rabbit\"}\n",
    "species_day2 = {\"Fox\", \"Rabbit\", \"Deer\", \"Owl\"}\n",
    "\n",
    "all_species = species_day1.union(species_day2)\n",
    "common_species = species_day1.intersection(species_day2)\n",
    "\n",
    "print(f\"All observed species: {all_species}\")\n",
    "print(f\"Species observed on both days: {common_species}\")"
   ]
  },
  {
   "cell_type": "markdown",
   "id": "b4902c4f-4c05-47cd-97ce-82c50976519a",
   "metadata": {},
   "source": [
    "### 5. Arrays (NumPy)\n",
    "\n",
    "NumPy arrays are efficient for numerical computations and are the foundation of many scientific Python libraries."
   ]
  },
  {
   "cell_type": "code",
   "execution_count": 12,
   "id": "d0b9e663-c266-42cb-9dba-a275ba892e02",
   "metadata": {},
   "outputs": [
    {
     "name": "stdout",
     "output_type": "stream",
     "text": [
      "Original data:\n",
      "[[1.2 2.3 3.1]\n",
      " [4.5 5.2 6.8]\n",
      " [7.1 8.9 9.3]]\n",
      "\n",
      "Mean of each column:\n",
      "[4.26666667 5.46666667 6.4       ]\n",
      "\n",
      "Sum of all elements:\n",
      "48.400000000000006\n"
     ]
    }
   ],
   "source": [
    "import numpy as np\n",
    "\n",
    "# Example: Creating and manipulating a 2D array of experimental data\n",
    "data = np.array([\n",
    "    [1.2, 2.3, 3.1],\n",
    "    [4.5, 5.2, 6.8],\n",
    "    [7.1, 8.9, 9.3]\n",
    "])\n",
    "\n",
    "print(\"Original data:\")\n",
    "print(data)\n",
    "\n",
    "print(\"\\nMean of each column:\")\n",
    "print(np.mean(data, axis=0))\n",
    "\n",
    "print(\"\\nSum of all elements:\")\n",
    "print(np.sum(data))"
   ]
  },
  {
   "cell_type": "markdown",
   "id": "2251d4f6-486a-4bf8-a873-a4f9b9edba70",
   "metadata": {},
   "source": [
    "### 6. DataFrames (Pandas)\n",
    "\n",
    "Pandas DataFrames are 2D labeled data structures, excellent for working with structured data like tables or time series."
   ]
  },
  {
   "cell_type": "code",
   "execution_count": 13,
   "id": "363eef5f-e4d3-4fb0-887f-8be5fbca3831",
   "metadata": {},
   "outputs": [
    {
     "name": "stdout",
     "output_type": "stream",
     "text": [
      "         Date  Temperature  Humidity  Pressure\n",
      "0  2023-01-01         22.5        45      1012\n",
      "1  2023-01-02         23.1        47      1010\n",
      "2  2023-01-03         22.8        44      1013\n",
      "3  2023-01-04         23.5        46      1014\n",
      "\n",
      "Average Temperature: 22.98°C\n"
     ]
    }
   ],
   "source": [
    "import pandas as pd\n",
    "\n",
    "# Example: Creating a DataFrame of climate data\n",
    "data = {\n",
    "    'Date': ['2023-01-01', '2023-01-02', '2023-01-03', '2023-01-04'],\n",
    "    'Temperature': [22.5, 23.1, 22.8, 23.5],\n",
    "    'Humidity': [45, 47, 44, 46],\n",
    "    'Pressure': [1012, 1010, 1013, 1014]\n",
    "}\n",
    "\n",
    "df = pd.DataFrame(data)\n",
    "print(df)\n",
    "\n",
    "# Calculate average temperature\n",
    "avg_temp = df['Temperature'].mean()\n",
    "print(f\"\\nAverage Temperature: {avg_temp:.2f}°C\")"
   ]
  },
  {
   "cell_type": "markdown",
   "id": "6a03cca7",
   "metadata": {},
   "source": [
    "## Part IV: Control Structures\n",
    "For more details, refer to the [Python documentation on control flow](https://docs.python.org/3/tutorial/controlflow.html).\n",
    "\n",
    "**Control flow** allows you to create \"branches\" in your code, enabling different blocks of code to be executed based on specific conditions. The most commonly used control flow structures are **if/elif/else** statements and **for/while loops**. In this section, we'll explore these concepts with some illustrative examples."
   ]
  },
  {
   "cell_type": "markdown",
   "id": "a9d79276",
   "metadata": {},
   "source": [
    "### If statements"
   ]
  },
  {
   "cell_type": "markdown",
   "id": "bfc01e4c",
   "metadata": {},
   "source": [
    "The `if` keyword is used in python to create code branches. If an _if_ statement's conditione evaluates to `True`, the interpreter proceeds to execute the code in that code block. There can be zero or more `elif` parts, and the `else` part is optional, executing only if none of the prior conditions were met. The keyword `elif` is short for `else if`, and is useful to avoid excessive indentation. It's best to see this as an example."
   ]
  },
  {
   "cell_type": "code",
   "execution_count": 14,
   "id": "e3bc3a8a",
   "metadata": {},
   "outputs": [
    {
     "name": "stdout",
     "output_type": "stream",
     "text": [
      "This number is odd\n"
     ]
    }
   ],
   "source": [
    "my_variable = 3\n",
    "if not isinstance(my_variable, int):\n",
    "    print(\"This isn't even a number!\")\n",
    "elif my_variable % 2 == 0:\n",
    "    print(\"This number is even\")\n",
    "else:\n",
    "    print(\"This number is odd\")"
   ]
  },
  {
   "cell_type": "markdown",
   "id": "fefd6b2b",
   "metadata": {},
   "source": [
    "Play around with this! Note we've combined things you've already seen (`==`, `print` statements, etc.) with things you haven't! Try to figure out what each of these new functions and operators do. For example, the `%` is the modulo operator. The `isinstance` function takes two inputs, a variable and a type, and checks to see if that variable is of the same instance as that type."
   ]
  },
  {
   "cell_type": "markdown",
   "id": "4393b3cf",
   "metadata": {},
   "source": [
    "### For loops"
   ]
  },
  {
   "cell_type": "markdown",
   "id": "161711f6",
   "metadata": {},
   "source": [
    "For loops are essentially syntax for moving, one step at a time, through ai \"iterable\". An interable is anything that can be \"iterated through\". This includes lists and dictionaries. There is quite a bit \"under the hood\" here, but for all intents and purposes, that is what a for loop is for. Once again it's best to see this through an example:"
   ]
  },
  {
   "cell_type": "code",
   "execution_count": 15,
   "id": "7af216b0",
   "metadata": {},
   "outputs": [
    {
     "name": "stdout",
     "output_type": "stream",
     "text": [
      "The number 2 is even\n",
      "The number 4 is even\n",
      "The number 6 is even\n",
      "The number 8 is even\n",
      "The number 10 is even\n",
      "The number 12 is even\n",
      "The number 14 is even\n",
      "The number 16 is even\n",
      "The number 18 is even\n",
      "The number 20 is even\n",
      "The number 22 is even\n",
      "The number 24 is even\n",
      "The number 26 is even\n",
      "You've encountered the number 27. Break out of the loop!\n"
     ]
    }
   ],
   "source": [
    "min_number = 2\n",
    "max_number = 30\n",
    "\n",
    "for index in range(min_number, max_number + 1):\n",
    "    if index % 2 == 0:\n",
    "        print(f\"The number {index} is even\")\n",
    "    if index == 27:\n",
    "        print(\"You've encountered the number 27. Break out of the loop!\")\n",
    "        break"
   ]
  },
  {
   "cell_type": "markdown",
   "id": "7a65d8f2",
   "metadata": {},
   "source": [
    "Once again we've combined some concepts while introducing some new ones. The `range` function takes one, two or three arguments. The full syntax of `range` is as follows: `range(start, stop, step)`.\n",
    "* If only one argument is provided, such as `range(3)` that is equivalent to `range(0, 3, 1)`. I.e., the `range` iterable will step through indices 0, 1 and 2.\n",
    "* If two arguments are provided, such as `range(2, 5)`, this is equivalent to `range(2, 5, 1)`. I.e., the `range` iterable will step through indices 2, 3, 4.\n",
    "* Providing all three arguments explicitly specifies the step size. Try it out!"
   ]
  },
  {
   "cell_type": "markdown",
   "id": "16a8c918",
   "metadata": {},
   "source": [
    "## A note on the standard libray"
   ]
  },
  {
   "cell_type": "markdown",
   "id": "ad17a97d",
   "metadata": {},
   "source": [
    "The Python [standard library](https://docs.python.org/3/library/index.html) consists of a variety of importable modules which can be used to accomplish tasks that are more complicated then what can be solved with \"clean\" Python code. \n",
    "\n",
    "One example of this is how one would go about generating (pseudo) random numbers. This is a non-trivial task, and there's really no reason to reinvent the wheel when Python has its own implementation of it! Here's how we can go about generating [pseudo-random numbers](https://en.wikipedia.org/wiki/Pseudorandom_number_generator) on the $[0,1)$ half-interval. First, we have to `import` the `random` module. Before doing this, the Python interpreter has no idea what `random` is. We have to load that module (and the code, so to speak) into the current working session with an `import` statement."
   ]
  },
  {
   "cell_type": "code",
   "execution_count": 16,
   "id": "2aca0798",
   "metadata": {},
   "outputs": [],
   "source": [
    "import random"
   ]
  },
  {
   "cell_type": "markdown",
   "id": "5e7a730a",
   "metadata": {},
   "source": [
    "Once we have `random` (the module) loaded, we can use `random` (the function) which is present in that module:"
   ]
  },
  {
   "cell_type": "code",
   "execution_count": 17,
   "id": "76f5edb3",
   "metadata": {},
   "outputs": [
    {
     "data": {
      "text/plain": [
       "0.1724527123116909"
      ]
     },
     "execution_count": 17,
     "metadata": {},
     "output_type": "execute_result"
    }
   ],
   "source": [
    "random.random()"
   ]
  },
  {
   "cell_type": "markdown",
   "id": "7093eba2",
   "metadata": {},
   "source": [
    "Here's another example. The `Counter` is basically a dictionary, but with a few special properties. For the following, we'll also utilize `random.randint` to generate a list of random integers and showcase list comprehension (see the aside below)."
   ]
  },
  {
   "cell_type": "code",
   "execution_count": 18,
   "id": "2574d224",
   "metadata": {},
   "outputs": [
    {
     "data": {
      "text/plain": [
       "Counter({1: 5, 2: 4, 5: 4, 3: 4, 4: 3})"
      ]
     },
     "execution_count": 18,
     "metadata": {},
     "output_type": "execute_result"
    }
   ],
   "source": [
    "from collections import Counter  # \"collections\" is also a part of the standard library\n",
    "\n",
    "random_integers = [random.randint(1, 5) for _ in range(20)]\n",
    "random_integers\n",
    "\n",
    "Counter(random_integers)"
   ]
  },
  {
   "cell_type": "markdown",
   "id": "8849a213",
   "metadata": {},
   "source": [
    "What did `Counter` do? It efficiently counted the number of times each of the integers occured in the list! Pretty neat."
   ]
  },
  {
   "cell_type": "markdown",
   "id": "101f2477",
   "metadata": {},
   "source": [
    "## Part IV: Some additional tips and tricks "
   ]
  },
  {
   "cell_type": "markdown",
   "id": "29b00932",
   "metadata": {},
   "source": [
    "### List comprehensions\n",
    "\n",
    "In many applications we desire to take a list of items and create another list with the items transformed or filtered in some way. Python has a specific pattern for this type of transformation called a list comprehension. List comprehensions have benefits over for loops in that they are expressions, as opposed to statements, which means they are faster in many cases. Consider this article from 2004 on [efficient string concatenation](https://waymoot.org/home/python_string/) which compares the speed of using several solutions. The trade off is that you lose control flow abilities such as `break` and `continue`, but most of the use cases for these can also be included in a list comprehension using its `if` clause. Here is an example of a list comprehension computing all the even squares less than 100:"
   ]
  },
  {
   "cell_type": "code",
   "execution_count": 19,
   "id": "cd6aa085",
   "metadata": {},
   "outputs": [],
   "source": [
    "list_1 = [x**2\n",
    "    for x in range(12)\n",
    "    if (x**2 % 2) == 0\n",
    "    if x**2 < 100\n",
    "]\n",
    "\n",
    "list_2 = []\n",
    "for x in range(12):\n",
    "    if (x**2 % 2 == 0) and (x**2<100): \n",
    "        list_2.append(x**2)"
   ]
  },
  {
   "cell_type": "markdown",
   "id": "4d5d9ada",
   "metadata": {},
   "source": [
    "The two methods above for constructing the lists are equivalent."
   ]
  },
  {
   "cell_type": "code",
   "execution_count": 20,
   "id": "6dfb7a63",
   "metadata": {},
   "outputs": [
    {
     "data": {
      "text/plain": [
       "True"
      ]
     },
     "execution_count": 20,
     "metadata": {},
     "output_type": "execute_result"
    }
   ],
   "source": [
    "list_1 == list_2"
   ]
  },
  {
   "cell_type": "markdown",
   "id": "64453bca",
   "metadata": {},
   "source": [
    "Another example: take the square of list of numbers"
   ]
  },
  {
   "cell_type": "code",
   "execution_count": 21,
   "id": "76026976",
   "metadata": {},
   "outputs": [
    {
     "name": "stdout",
     "output_type": "stream",
     "text": [
      "[4, 25, 81, 196, 361]\n"
     ]
    }
   ],
   "source": [
    "input_numbers = [2, 5, 9, 14, 19]\n",
    "squared_numbers = [n**2 for n in input_numbers]\n",
    "print(squared_numbers)"
   ]
  },
  {
   "cell_type": "markdown",
   "id": "5e3cb694",
   "metadata": {},
   "source": [
    "### Some iteration tricks\n",
    "By now you should be familiar with the basic `for` loop syntax, but there are a few tricks that can make your life easier when writing code. We'll go through a few of them here.\n",
    "\n",
    "#### Keeping track of indices with `enumerate`\n",
    "The `enumerate` function is a useful tool for keeping track of the indices of the elements in a list as you iterate over them.  As an example, let's consider the following: Suppose you have a list of numbers and you want to find the indices of the negative numbers in the list. You can easily do this with a `for` loop and the `enumerate` function as follows:\n"
   ]
  },
  {
   "cell_type": "code",
   "execution_count": 22,
   "id": "0943e9d2",
   "metadata": {},
   "outputs": [
    {
     "name": "stdout",
     "output_type": "stream",
     "text": [
      "4\n",
      "7\n"
     ]
    }
   ],
   "source": [
    "number_list = [1, 2, 7, 4, -5, 6, 3, -2, 9]\n",
    "for i, n in enumerate(number_list):\n",
    "    if n < 0:\n",
    "        print(i)"
   ]
  },
  {
   "cell_type": "markdown",
   "id": "2e6d4522",
   "metadata": {},
   "source": [
    "#### Iterating through multiple sequences with `zip`\n",
    "Suppose you have two lists of numbers and you want to iterate over them simultaneously. For example, suppose you have a list of numbers and a list of letters, and you want to print out the number and letters together. You can do this with a `for` loop and the `zip` function as follows:"
   ]
  },
  {
   "cell_type": "code",
   "execution_count": 23,
   "id": "52498b33",
   "metadata": {},
   "outputs": [
    {
     "name": "stdout",
     "output_type": "stream",
     "text": [
      "a 5\n",
      "b 4\n",
      "c 3\n",
      "d 2\n",
      "e 1\n"
     ]
    }
   ],
   "source": [
    "letters = ['a', 'b', 'c', 'd', 'e']\n",
    "numbers = [5, 4, 3, 2, 1]\n",
    "\n",
    "for l, n in zip(letters, numbers):\n",
    "    print(l, n)"
   ]
  },
  {
   "cell_type": "markdown",
   "id": "e63b2614",
   "metadata": {},
   "source": [
    "#### Iterating through dictionaries: `keys()`, `values()`, and `items()`\n",
    "As you saw in the previous section, dictionaries are a useful data structure for storing key-value pairs. Suppose you have a dictionary and you want to iterate over the keys and values. You can do this with a `for` loop and the `keys()`, `values()`, and `items()` functions as follows:"
   ]
  },
  {
   "cell_type": "code",
   "execution_count": 24,
   "id": "776349ae",
   "metadata": {},
   "outputs": [
    {
     "name": "stdout",
     "output_type": "stream",
     "text": [
      "a 1\n",
      "b 2\n",
      "c 3\n",
      "--------------------------------------------------\n",
      "a\n",
      "b\n",
      "c\n",
      "--------------------------------------------------\n",
      "1\n",
      "2\n",
      "3\n"
     ]
    }
   ],
   "source": [
    "my_dict = {'a': 1, 'b': 2, 'c': 3}\n",
    "\n",
    "for key, value in my_dict.items():\n",
    "    print(key, value)\n",
    "\n",
    "print('--------------------------------------------------')\n",
    "\n",
    "for key in my_dict.keys():\n",
    "    print(key)\n",
    "\n",
    "print('--------------------------------------------------')\n",
    "\n",
    "for value in my_dict.values():\n",
    "    print(value)\n"
   ]
  },
  {
   "cell_type": "markdown",
   "id": "dc041d6b",
   "metadata": {},
   "source": [
    "\n",
    "### Selective iteration: `break` and `continue`\n",
    "\n",
    "Sometimes you want to iterate over a list, but you only want to do something if some condition is met. For example, suppose you have a list of numbers and you want to compute their square roots, but only if the number is positive to avoid errors. The `continue` keyword allows you to skip over the remaining code in the loop and move on to the next element in the iteration. You can do this with a `for` loop and the `continue` function as follows:"
   ]
  },
  {
   "cell_type": "code",
   "execution_count": 25,
   "id": "c3955eeb",
   "metadata": {},
   "outputs": [
    {
     "name": "stdout",
     "output_type": "stream",
     "text": [
      "Number:  1  |  Square root:  1.0\n",
      "Number:  2  |  Square root:  1.4142135623730951\n",
      "Number:  7  |  Square root:  2.6457513110645907\n",
      "Number:  4  |  Square root:  2.0\n",
      "Number:  6  |  Square root:  2.449489742783178\n",
      "Number:  3  |  Square root:  1.7320508075688772\n",
      "Number:  9  |  Square root:  3.0\n"
     ]
    }
   ],
   "source": [
    "import math\n",
    "\n",
    "number_list = [1, 2, 7, 4, -5, 6, 3, -2, 9]\n",
    "\n",
    "for n in number_list:\n",
    "    if n < 0:\n",
    "        continue\n",
    "    print('Number: ', n, ' |  Square root: ', math.sqrt(n))"
   ]
  },
  {
   "cell_type": "markdown",
   "id": "d805800e",
   "metadata": {},
   "source": [
    "Similarly, the `break` keyword allows you to exit the loop early. For example, suppose you have a list of numbers and you want to find the first negative number in the list. You can do this with a `for` loop and the `break` function as follows:"
   ]
  },
  {
   "cell_type": "code",
   "execution_count": 26,
   "id": "65798f6a",
   "metadata": {},
   "outputs": [
    {
     "name": "stdout",
     "output_type": "stream",
     "text": [
      "The first negative number in the list is:  -5\n"
     ]
    }
   ],
   "source": [
    "for n in number_list:\n",
    "    if n < 0:\n",
    "        break\n",
    "\n",
    "print('The first negative number in the list is: ', n)"
   ]
  },
  {
   "cell_type": "markdown",
   "id": "0cb7b1e7",
   "metadata": {},
   "source": [
    "# Functions\n",
    "\n",
    "In python, functions are objects which execute the same code, with possibly different arguments (or, inputs or parameters). In the same way that a mathematical function such as $f(x,y)$ can give you 5 or 9, depending on what `x` and `y` you give `f` as an input, functions in python operate similarly.\n",
    "\n",
    "_If you ever find yourself repeating code many times in your program then it is a good idea to put it in a function!_ In particular, if any changes need to be made, they can be made in one place which reduces the possibility of introducing errors.\n",
    "\n",
    "To make a function, you use the `def` keyword, and specify its signature using `()`, and it may return a value using the `return` keyword. There are some, hopefully helpful, examples below.\n",
    "\n",
    "Arguments passed to functions can also be given default values, by assigning the default value when you define the function. This means when that function is called, that variable does not need to be included, it will be given that default value. This can enhance readability and reduce development time if used judiciously."
   ]
  },
  {
   "cell_type": "code",
   "execution_count": 27,
   "id": "651f4b4f",
   "metadata": {},
   "outputs": [],
   "source": [
    "def do_addition(x, y):\n",
    "    return x + y\n",
    "\n",
    "def open_file(file_path):\n",
    "    with open(file_path, 'r') as f:  # a context manager using the `with` keyword\n",
    "        opened_file = f.read()\n",
    "    return opened_file\n",
    "\n",
    "def tell_me_what_im_thinking_of(what_im_thinking_about, polite=False):\n",
    "    oracles_repsonse = f\"You are thinking about {what_im_thinking_about}. \"\n",
    "    if polite:\n",
    "        oracles_repsonse += \"Thanks!\"\n",
    "    return oracles_repsonse"
   ]
  },
  {
   "cell_type": "markdown",
   "id": "c0ef1bb3",
   "metadata": {},
   "source": [
    "Above, we sneakily introduced a few new concepts!\n",
    "* The [with statement](https://docs.python.org/3/reference/compound_stmts.html#with) is used to wrap a block of code in a special way. The context manager that generally comes after `with` has special behaviors. For example, `with open(...) as f` will first store the context manager object as `f`, but it will also define certain behaviors that automatically execute before and after the code block is run. In this case, the context manager opens the specified file, allowing you to do certain things with it (such as reading it via `f.read()`). Then, even though it's not explicitly stated, the context manager will actually close the file for you once the code block is done executing.\n",
    "* Default arguments, such as `polite=False`, are exactly what they sound like. If the `polite` keyword argument is provided, it will override the default value of `False`, but if `polite` is not provided, it will default _to_ `False`.\n",
    "* The `return` statement tells the function what value to produce at the end of it."
   ]
  },
  {
   "cell_type": "code",
   "execution_count": 28,
   "id": "7a3de9ac",
   "metadata": {},
   "outputs": [
    {
     "name": "stdout",
     "output_type": "stream",
     "text": [
      "3\n",
      "13\n",
      "You are thinking about a nice lunch. Thanks!\n"
     ]
    }
   ],
   "source": [
    "one_plus_two = do_addition(1, 2)\n",
    "print(one_plus_two)\n",
    "print(do_addition(6, 7))\n",
    "print(tell_me_what_im_thinking_of(\"a nice lunch\", polite=True))"
   ]
  },
  {
   "cell_type": "markdown",
   "id": "187958f6",
   "metadata": {},
   "source": [
    "## Hands-on Exercise\n",
    "Calculate the average temperature for the list of `temperatures` below and classify it using the `classify_weather` function."
   ]
  },
  {
   "cell_type": "code",
   "execution_count": 29,
   "id": "08d7faca",
   "metadata": {},
   "outputs": [
    {
     "name": "stdout",
     "output_type": "stream",
     "text": [
      "The weather is Warm.\n"
     ]
    }
   ],
   "source": [
    "\"\"\"Let's write a simple function to classify weather based on temperature.\"\"\"\n",
    "# Function to classify weather\n",
    "def classify_weather(temp):\n",
    "    if temp >= 30:\n",
    "        return 'Hot'\n",
    "    elif temp >= 20 and temp < 30:\n",
    "        return 'Warm'\n",
    "    else:\n",
    "        return 'Cold'\n",
    "\n",
    "# Test the function\n",
    "temperature = 22.5\n",
    "weather = classify_weather(temperature)\n",
    "print(f'The weather is {weather}.')\n"
   ]
  },
  {
   "cell_type": "markdown",
   "id": "c5578d67",
   "metadata": {},
   "source": [
    "This code defines a function called `classify_weather` that categorizes the weather based on temperature. The function takes a single argument, `temp`:\n",
    "\n",
    "- If the temperature is greater than 30, it returns 'Hot'.\n",
    "- If the temperature is greater than 20 but less than or equal to 30, it returns 'Warm'.\n",
    "- For any other temperature (20 or below), it returns 'Cold'.\n",
    "\n",
    "After defining the function, we test it by passing a temperature of 22.5°C to `classify_weather`. The function returns 'Warm', and this result is printed as: \"The weather is Warm.\""
   ]
  },
  {
   "cell_type": "code",
   "execution_count": 30,
   "id": "71ca9dda-1196-417c-8ffa-42cfc8e0e53b",
   "metadata": {},
   "outputs": [],
   "source": [
    "# Example: List of daily temperatures (in °C)\n",
    "temperatures = [22.5, 25.3, 20.8, 18.6, 30.0]\n",
    "#average_temp = sum(temperatures) / len(temperatures)\n",
    "#print(f'Average Temperature: {average_temp:.2f}°C')\n",
    "\n",
    "# Classify the weather based on average temperature\n",
    "#weather_type = classify_weather(average_temp)\n",
    "#print(f'The weather is {weather_type}.')"
   ]
  },
  {
   "cell_type": "code",
   "execution_count": null,
   "id": "43c36317-6faa-4189-82b8-179910b473f4",
   "metadata": {},
   "outputs": [],
   "source": []
  }
 ],
 "metadata": {
  "kernelspec": {
   "display_name": "Python 3 (ipykernel)",
   "language": "python",
   "name": "python3"
  },
  "language_info": {
   "codemirror_mode": {
    "name": "ipython",
    "version": 3
   },
   "file_extension": ".py",
   "mimetype": "text/x-python",
   "name": "python",
   "nbconvert_exporter": "python",
   "pygments_lexer": "ipython3",
   "version": "3.10.9"
  }
 },
 "nbformat": 4,
 "nbformat_minor": 5
}
