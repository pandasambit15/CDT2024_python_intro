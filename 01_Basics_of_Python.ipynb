{
 "cells": [
  {
   "cell_type": "markdown",
   "id": "8a47bb08",
   "metadata": {},
   "source": [
    "# Basics of Python\n",
    "In this introductory tutorial, we will go through some of the basic concepts of Python Programming Language. This is by no means a complete course on Python, but rather a broad overlook at it's various utilities and flavours.\n",
    "\n",
    "This notebook introduces the basics of Python programming, focusing on syntax, basic operations, data types, functions etc. and try certain applications catered towards weather and climate data. The contents of this notebook is a compilation of various tutuorials and open-source materials on the web."
   ]
  },
  {
   "cell_type": "markdown",
   "id": "d2c803a6-281d-4eb4-9c81-f34c16bd2bf6",
   "metadata": {},
   "source": [
    "## Basic syntax and data types"
   ]
  },
  {
   "cell_type": "markdown",
   "id": "0da82e0d-4623-403d-a946-7f3b5e14995a",
   "metadata": {},
   "source": [
    "The core of any object-oriented language are its objects. In Python _everything_ is an object, from a function to a class to a variable. The simplest object is, in fact, a **variable**. Let's define the first variable here, and print its type."
   ]
  },
  {
   "cell_type": "code",
   "execution_count": 1,
   "id": "10ede180-b7be-4418-a97d-8983eccda888",
   "metadata": {},
   "outputs": [
    {
     "name": "stdout",
     "output_type": "stream",
     "text": [
      "<class 'int'>\n"
     ]
    }
   ],
   "source": [
    "x = 2\n",
    "print(type(x))"
   ]
  },
  {
   "cell_type": "markdown",
   "id": "fd85c278-fe88-4a06-97fb-769b73ba0992",
   "metadata": {},
   "source": [
    "We've taken a few steps so far. To begin, we created a variable named x and assigned it the value 2. Next, we used the `print` function to display the type of `x`. The print function can accept one or more inputs and displays the values of variables. You might have also observed that `type` is another function we used, which determines and returns the data type of the variable given to it."
   ]
  },
  {
   "cell_type": "markdown",
   "id": "c33d5551-7a82-4572-859f-0e198cc7b9b5",
   "metadata": {},
   "source": [
    "There are other types of variables, such as strings, floats, and booleans. Let's see a few examples of these."
   ]
  },
  {
   "cell_type": "code",
   "execution_count": 2,
   "id": "115c0788",
   "metadata": {},
   "outputs": [
    {
     "name": "stdout",
     "output_type": "stream",
     "text": [
      "Temperature: 22.5°C, City: New York, Sunny: True\n"
     ]
    }
   ],
   "source": [
    "# Variables and Data Types\n",
    "temperature = 22.5  # float\n",
    "city = 'New York'   # string\n",
    "is_sunny = True     # boolean\n",
    "\n",
    "print(f'Temperature: {temperature}°C, City: {city}, Sunny: {is_sunny}')"
   ]
  },
  {
   "cell_type": "markdown",
   "id": "fea8a4f7-e3e1-47e1-a86a-b5561bf397d1",
   "metadata": {},
   "source": [
    "The `#` symbol in Python marks the beginning of a **comment**. Comments serve as explanatory notes within the code, intended for the programmer and other readers. Python doesn't execute these lines - it simply ignores them. \r\n",
    "\r\n",
    "Developers use comments to:\r\n",
    "- Clarify their code's purpose and functionality\r\n",
    "- Make the code easier to understand and maintain\r\n",
    "- Provide context or explanations for complex logic\r\n",
    "- Temporarily disable certain parts of the code for testing\r\n",
    "\r\n",
    "**Note:** Good commenting practices can significantly improve code readability and collaboration among developers."
   ]
  },
  {
   "cell_type": "markdown",
   "id": "5718654a-726d-41f1-8697-dc74a27f62cb",
   "metadata": {},
   "source": [
    "### Basic Operators"
   ]
  },
  {
   "cell_type": "markdown",
   "id": "8c5223c5-1464-4d9f-83bd-9dca8325bba1",
   "metadata": {},
   "source": [
    "Python offers various **operators** for manipulating variables. These operators follow a left-to-right evaluation order and adhere to the \"PEMDAS\" rule. Here's a brief overview of some common operators:\n",
    "\n",
    "1. **Assignment operator**: `=`\n",
    "   - Assigns a value to a variable\n",
    "   - Example: `x = 5`\n",
    "\n",
    "2. **Equality operator**: `==`\n",
    "   - Checks if two values are equal\n",
    "   - Example: `if x == 5:`\n",
    "\n",
    "3. **Arithmetic operators**:\n",
    "   - Addition: `+`\n",
    "   - Subtraction: `-`\n",
    "   - Multiplication: `*`\n",
    "   - Division: `/`\n",
    "   - Exponentiation: `**`\n",
    "\n",
    "Let's apply these operators to convert temperature from Fahrenheit to Celsius. The mathematical formula is:\n",
    "\n",
    "$$ C = 5(F - 32)/9 $$\n",
    "\n",
    "We can implement this formula in Python code as follows:"
   ]
  },
  {
   "cell_type": "code",
   "execution_count": 5,
   "id": "46b08e60-0d2c-4c3b-bd06-0da1dbd74204",
   "metadata": {},
   "outputs": [
    {
     "name": "stdout",
     "output_type": "stream",
     "text": [
      "It's equivalently hot in Europe: 35.56 degrees C!\n"
     ]
    }
   ],
   "source": [
    "F = 96  # it's quite hot out in America\n",
    "C = 5 * (F - 32) / 9\n",
    "print(f\"It's equivalently hot in Europe: {C:.02f} degrees C!\")"
   ]
  },
  {
   "cell_type": "markdown",
   "id": "fd02a68e-ff5e-4a3e-a25c-2f22a9bec836",
   "metadata": {},
   "source": [
    "In the previous example, we've combined several concepts and introduced a new one: [f-strings](https://docs.python.org/3/tutorial/inputoutput.html). F-strings provide a powerful way to embed expressions inside string literals for formatting.\r\n",
    "\r\n",
    "Key points about f-strings:\r\n",
    "\r\n",
    "1. They allow us to insert variables directly into print statements.\r\n",
    "2. The syntax `{C:.02f}` formats the `C` variable as a float with two decimal places.\r\n",
    "3. F-strings can handle complex formatting, but even basic usage improves output readability.\r\n",
    "\r\n",
    "**Note:** While the detailed formatting is optional, mastering f-strings can significantly enhance the professionalism of your output.\r\n",
    "\r\n",
    "**Tip:** For a deeper understanding of f-strings and their capabilities, refer to the official Python documentation linked above.\r\n",
    "\r\n",
    "Example usage:\r\n",
    "```python\r\n",
    "temperature_c = 25.4321\r\n",
    "print(f\"The temperature is {temperature_c:.2f}°C\")\r\n",
    "# Output: The temperature is 25.43°C"
   ]
  },
  {
   "cell_type": "markdown",
   "id": "fd3d5bd2-c93b-4b82-bddb-a90f0c402efc",
   "metadata": {},
   "source": [
    "## Basic Python data structures"
   ]
  },
  {
   "cell_type": "markdown",
   "id": "441812d1-a07c-4567-ae4f-13597b4cf4eb",
   "metadata": {},
   "source": [
    "### Data Organization in Python\n",
    "\n",
    "In scientific computing, efficient data organization is crucial. Python provides various data structures to help us organize and manage information effectively. These structures can contain other objects, allowing for complex data representations.\n",
    "\n",
    "### Key Data Structures in Python\n",
    "\n",
    "1. **Lists**: Ordered, mutable sequences\n",
    "2. **Tuples**: Ordered, immutable sequences\n",
    "3. **Dictionaries**: Key-value pairs\n",
    "4. **Sets**: Unordered collections of unique elements\n",
    "5. **Arrays**: Efficient storage for numerical data (via NumPy)\n",
    "6. **DataFrames**: 2D labeled data structures (via Pandas)\n",
    "\n",
    "Each of these structures has its own characteristics and use cases, making Python a versatile tool for scientific data manipulation and analysis.\n",
    "\n",
    "In the following sections, we'll explore these data structures in detail, discussing their properties, use cases, and how to work with them effectively in scientific contexts."
   ]
  },
  {
   "cell_type": "markdown",
   "id": "db262449-547e-4b09-861a-35842fec7d3f",
   "metadata": {},
   "source": [
    "### 1. Lists \n",
    "\n",
    "Lists are ordered, mutable sequences. They're versatile and commonly used for storing collections of related items."
   ]
  },
  {
   "cell_type": "code",
   "execution_count": 6,
   "id": "b9a21f7c-e926-4486-9e11-579384a7bb3f",
   "metadata": {},
   "outputs": [
    {
     "name": "stdout",
     "output_type": "stream",
     "text": [
      "Temperatures: [22.5, 23.1, 23.8, 22.9, 23.5]\n",
      "Number of measurements: 5\n",
      "Maximum temperature: 23.8°C\n"
     ]
    }
   ],
   "source": [
    "# Example: List of experimental temperatures (in °C)\n",
    "temperatures = [22.5, 23.1, 23.8, 22.9, 23.5]\n",
    "\n",
    "print(f\"Temperatures: {temperatures}\")\n",
    "print(f\"Number of measurements: {len(temperatures)}\")\n",
    "print(f\"Maximum temperature: {max(temperatures)}°C\")"
   ]
  },
  {
   "cell_type": "markdown",
   "id": "f3b762ea-f4e1-423a-8016-b76fc36e3f7d",
   "metadata": {},
   "source": [
    "Now, how do we access a number/element in a list? Python, like many (but not all!) programming languages, is \"zero-indexed\". That means the \"first\" element of the array is indexed by the number `0`. \n",
    "\n",
    "So, let's try and print few elements/entries from the list `temperatures`."
   ]
  },
  {
   "cell_type": "code",
   "execution_count": 12,
   "id": "ecb9c3cf-7260-47d6-a928-151df0b17715",
   "metadata": {},
   "outputs": [
    {
     "name": "stdout",
     "output_type": "stream",
     "text": [
      "First Entry:  22.5\n",
      "Last Entry:  23.5\n",
      "Also Last Entry:  23.5\n"
     ]
    }
   ],
   "source": [
    "print(f\"First Entry:  {temperatures[0]}\")\n",
    "print(f\"Last Entry:  {temperatures[-1]}\")\n",
    "print(f\"Also Last Entry:  {temperatures[4]}\")"
   ]
  },
  {
   "cell_type": "markdown",
   "id": "879ef051-5b13-400d-911b-854e6234dd6c",
   "metadata": {},
   "source": [
    "### 2. Tuples\r\n",
    "\r\n",
    "Tuples are similar to lists but immutable. They're often used for fixed collections of data."
   ]
  },
  {
   "cell_type": "code",
   "execution_count": 7,
   "id": "d10aa961-804d-41c0-a34f-995f51d9e1e0",
   "metadata": {},
   "outputs": [
    {
     "name": "stdout",
     "output_type": "stream",
     "text": [
      "The point is located at x=2.5, y=1.8, z=-3.2\n"
     ]
    }
   ],
   "source": [
    "# Example: Representing a 3D coordinate\n",
    "point = (2.5, 1.8, -3.2)\n",
    "\n",
    "x, y, z = point  # Unpacking the tuple\n",
    "print(f\"The point is located at x={x}, y={y}, z={z}\")"
   ]
  },
  {
   "cell_type": "markdown",
   "id": "7ea87b96-8064-42ac-81b8-e54f9e56b782",
   "metadata": {},
   "source": [
    "### 3. Dictionaries\r\n",
    "\r\n",
    "Dictionaries store key-value pairs, allowing for efficient lookup and organization of data."
   ]
  },
  {
   "cell_type": "markdown",
   "id": "83877fb2-93c7-40ed-acd0-f354efd751da",
   "metadata": {},
   "source": [
    "A list is an _ordered_ collection of items. A dictionary, or `dict`, is an unordered collection of data indexed by \"keys\". There are quite a few differences fundamentally between lists and dictionaries, but for now, we're going to focus on the most important two.\n",
    "* Lists are _ordered_, dictionaries are _not ordered_\n",
    "* Lists are accessed by integers starting from 0, dictionaries are indexed by keys of an arbitrary type\n",
    "\n",
    "This second property especially makes them useful as lookup tables. For example, the following demonstrates how dictionaries are constructed and accessed."
   ]
  },
  {
   "cell_type": "code",
   "execution_count": 13,
   "id": "9eb89706-18a9-47c9-868a-63a5d496817e",
   "metadata": {},
   "outputs": [
    {
     "name": "stdout",
     "output_type": "stream",
     "text": [
      "The atomic number of Helium is 2\n",
      "The new updated dictionary is: {'Hydrogen': 1, 'Helium': 2, 'Lithium': 3, 'Beryllium': 4, 'Carbon': 6}\n"
     ]
    }
   ],
   "source": [
    "# Example: Chemical elements and their atomic numbers\n",
    "elements = {\n",
    "    \"Hydrogen\": 1,\n",
    "    \"Helium\": 2,\n",
    "    \"Lithium\": 3,\n",
    "    \"Beryllium\": 4\n",
    "}\n",
    "\n",
    "print(f\"The atomic number of Helium is {elements['Helium']}\")\n",
    "\n",
    "# Adding a new element\n",
    "elements[\"Carbon\"] = 6\n",
    "print(f\"The new updated dictionary is: {elements}\")"
   ]
  },
  {
   "cell_type": "markdown",
   "id": "e93cb589-7254-4ddd-854b-20a062fd440f",
   "metadata": {},
   "source": [
    "### 4. Sets\r\n",
    "\r\n",
    "Sets are unordered collections of unique elements, useful for removing duplicates and set operations."
   ]
  },
  {
   "cell_type": "code",
   "execution_count": 9,
   "id": "7638879d-5779-458d-9dc6-ac59042fe29c",
   "metadata": {},
   "outputs": [
    {
     "name": "stdout",
     "output_type": "stream",
     "text": [
      "All observed species: {'Fox', 'Wolf', 'Bear', 'Owl', 'Deer', 'Rabbit'}\n",
      "Species observed on both days: {'Rabbit', 'Fox'}\n"
     ]
    }
   ],
   "source": [
    "# Example: Unique species observed in an ecosystem\n",
    "species_day1 = {\"Wolf\", \"Fox\", \"Bear\", \"Rabbit\"}\n",
    "species_day2 = {\"Fox\", \"Rabbit\", \"Deer\", \"Owl\"}\n",
    "\n",
    "all_species = species_day1.union(species_day2)\n",
    "common_species = species_day1.intersection(species_day2)\n",
    "\n",
    "print(f\"All observed species: {all_species}\")\n",
    "print(f\"Species observed on both days: {common_species}\")"
   ]
  },
  {
   "cell_type": "markdown",
   "id": "b4902c4f-4c05-47cd-97ce-82c50976519a",
   "metadata": {},
   "source": [
    "### 5. Arrays (NumPy)\r\n",
    "\r\n",
    "NumPy arrays are efficient for numerical computations and are the foundation of many scientific Python libraries."
   ]
  },
  {
   "cell_type": "code",
   "execution_count": 10,
   "id": "d0b9e663-c266-42cb-9dba-a275ba892e02",
   "metadata": {},
   "outputs": [
    {
     "name": "stdout",
     "output_type": "stream",
     "text": [
      "Original data:\n",
      "[[1.2 2.3 3.1]\n",
      " [4.5 5.2 6.8]\n",
      " [7.1 8.9 9.3]]\n",
      "\n",
      "Mean of each column:\n",
      "[4.26666667 5.46666667 6.4       ]\n",
      "\n",
      "Sum of all elements:\n",
      "48.400000000000006\n"
     ]
    }
   ],
   "source": [
    "import numpy as np\n",
    "\n",
    "# Example: Creating and manipulating a 2D array of experimental data\n",
    "data = np.array([\n",
    "    [1.2, 2.3, 3.1],\n",
    "    [4.5, 5.2, 6.8],\n",
    "    [7.1, 8.9, 9.3]\n",
    "])\n",
    "\n",
    "print(\"Original data:\")\n",
    "print(data)\n",
    "\n",
    "print(\"\\nMean of each column:\")\n",
    "print(np.mean(data, axis=0))\n",
    "\n",
    "print(\"\\nSum of all elements:\")\n",
    "print(np.sum(data))"
   ]
  },
  {
   "cell_type": "markdown",
   "id": "2251d4f6-486a-4bf8-a873-a4f9b9edba70",
   "metadata": {},
   "source": [
    "### 6. DataFrames (Pandas)\r\n",
    "\r\n",
    "Pandas DataFrames are 2D labeled data structures, excellent for working with structured data like tables or time series."
   ]
  },
  {
   "cell_type": "code",
   "execution_count": 11,
   "id": "363eef5f-e4d3-4fb0-887f-8be5fbca3831",
   "metadata": {},
   "outputs": [
    {
     "name": "stdout",
     "output_type": "stream",
     "text": [
      "         Date  Temperature  Humidity  Pressure\n",
      "0  2023-01-01         22.5        45      1012\n",
      "1  2023-01-02         23.1        47      1010\n",
      "2  2023-01-03         22.8        44      1013\n",
      "3  2023-01-04         23.5        46      1014\n",
      "\n",
      "Average Temperature: 22.98°C\n"
     ]
    }
   ],
   "source": [
    "import pandas as pd\n",
    "\n",
    "# Example: Creating a DataFrame of climate data\n",
    "data = {\n",
    "    'Date': ['2023-01-01', '2023-01-02', '2023-01-03', '2023-01-04'],\n",
    "    'Temperature': [22.5, 23.1, 22.8, 23.5],\n",
    "    'Humidity': [45, 47, 44, 46],\n",
    "    'Pressure': [1012, 1010, 1013, 1014]\n",
    "}\n",
    "\n",
    "df = pd.DataFrame(data)\n",
    "print(df)\n",
    "\n",
    "# Calculate average temperature\n",
    "avg_temp = df['Temperature'].mean()\n",
    "print(f\"\\nAverage Temperature: {avg_temp:.2f}°C\")"
   ]
  },
  {
   "cell_type": "markdown",
   "id": "6a03cca7",
   "metadata": {},
   "source": [
    "### Control Structures\n",
    "For more details, refer to the [Python documentation on control flow](https://docs.python.org/3/tutorial/controlflow.html).\r\n",
    "\r\n",
    "**Control flow** allows you to create \"branches\" in your code, enabling different blocks of code to be executed based on specific conditions. The most commonly used control flow structures are **if/elif/else** statements and **for/while loops**. In this section, we'll explore these concepts with some illustrative examples.\r\n",
    "\n",
    "Let's write a simple function to classify weather based on temperature."
   ]
  },
  {
   "cell_type": "code",
   "execution_count": 21,
   "id": "7dbfd39e",
   "metadata": {},
   "outputs": [
    {
     "name": "stdout",
     "output_type": "stream",
     "text": [
      "The weather is Warm.\n"
     ]
    }
   ],
   "source": [
    "# Function to classify weather\n",
    "def classify_weather(temp):\n",
    "    if temp >= 30:\n",
    "        return 'Hot'\n",
    "    elif temp >= 20 and temp < 30:\n",
    "        return 'Warm'\n",
    "    else:\n",
    "        return 'Cold'\n",
    "\n",
    "# Test the function\n",
    "temperature = 22.5\n",
    "weather = classify_weather(temperature)\n",
    "print(f'The weather is {weather}.')"
   ]
  },
  {
   "cell_type": "markdown",
   "id": "e96428b5-f703-4ef2-9f3a-421483134f2b",
   "metadata": {},
   "source": [
    "This code defines a function called `classify_weather` that categorizes the weather based on temperature. The function takes a single argument, `temp`:\r\n",
    "\r\n",
    "- If the temperature is greater than 30, it returns 'Hot'.\r\n",
    "- If the temperature is greater than 20 but less than or equal to 30, it returns 'Warm'.\r\n",
    "- For any other temperature (20 or below), it returns 'Cold'.\r\n",
    "\r\n",
    "After defining the function, we test it by passing a temperature of 22.5°C to `classify_weather`. The function returns 'Warm', and this result is printed as: \"The weather is Warm.\"\r\n"
   ]
  },
  {
   "cell_type": "markdown",
   "id": "187958f6",
   "metadata": {},
   "source": [
    "## Hands-on Exercise\n",
    "Calculate the average temperature for the list of `temperatures` below and classify it using the `classify_weather` function."
   ]
  },
  {
   "cell_type": "code",
   "execution_count": 22,
   "id": "71ca9dda-1196-417c-8ffa-42cfc8e0e53b",
   "metadata": {},
   "outputs": [],
   "source": [
    "# Example: List of daily temperatures (in °C)\n",
    "temperatures = [22.5, 25.3, 20.8, 18.6, 30.0]\n",
    "#average_temp = sum(temperatures) / len(temperatures)\n",
    "#print(f'Average Temperature: {average_temp:.2f}°C')\n",
    "\n",
    "# Classify the weather based on average temperature\n",
    "#weather_type = classify_weather(average_temp)\n",
    "#print(f'The weather is {weather_type}.')"
   ]
  },
  {
   "cell_type": "code",
   "execution_count": null,
   "id": "43c36317-6faa-4189-82b8-179910b473f4",
   "metadata": {},
   "outputs": [],
   "source": []
  }
 ],
 "metadata": {
  "kernelspec": {
   "display_name": "Python 3 (ipykernel)",
   "language": "python",
   "name": "python3"
  },
  "language_info": {
   "codemirror_mode": {
    "name": "ipython",
    "version": 3
   },
   "file_extension": ".py",
   "mimetype": "text/x-python",
   "name": "python",
   "nbconvert_exporter": "python",
   "pygments_lexer": "ipython3",
   "version": "3.11.5"
  }
 },
 "nbformat": 4,
 "nbformat_minor": 5
}
